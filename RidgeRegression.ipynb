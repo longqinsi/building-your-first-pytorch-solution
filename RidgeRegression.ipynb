{
 "cells": [
  {
   "cell_type": "code",
   "execution_count": 1,
   "metadata": {
    "collapsed": true,
    "ExecuteTime": {
     "end_time": "2023-05-19T09:35:53.983274100Z",
     "start_time": "2023-05-19T09:35:53.979016600Z"
    }
   },
   "outputs": [],
   "source": [
    "import numpy as np\n",
    "import matplotlib.pyplot as plt"
   ]
  },
  {
   "cell_type": "code",
   "execution_count": 2,
   "outputs": [],
   "source": [
    "x_train = np.array ([[4.7], [2.4], [7.5], [7.1], [4.3],\n",
    "                     [7.8], [8.9], [5.2], [4.59], [2.1],\n",
    "                     [8], [5], [7.5], [5], [4],\n",
    "                     [8], [5.2], [4.9], [3], [4.7],\n",
    "                     [4], [4.8], [3.5], [2.1], [4.1]],\n",
    "                    dtype = np.float32)\n",
    "\n",
    "y_train = np.array ([[2.6], [1.6], [3.09], [2.4], [2.4],\n",
    "                     [3.3], [2.6], [1.96], [3.13], [1.76],\n",
    "                     [3.2], [2.1], [1.6], [2.5], [2.2],\n",
    "                     [2.75], [2.4], [1.8], [1], [2],\n",
    "                     [1.6], [2.4], [2.6], [1.5], [3.1]],\n",
    "                    dtype = np.float32)"
   ],
   "metadata": {
    "collapsed": false,
    "ExecuteTime": {
     "end_time": "2023-05-19T09:36:03.789306200Z",
     "start_time": "2023-05-19T09:36:03.785069500Z"
    }
   }
  },
  {
   "cell_type": "code",
   "execution_count": 3,
   "outputs": [
    {
     "data": {
      "text/plain": "<Figure size 800x800 with 1 Axes>",
      "image/png": "[encoded data removed]"
     },
     "metadata": {},
     "output_type": "display_data"
    }
   ],
   "source": [
    "plt.figure(figsize=(8,8))\n",
    "plt.scatter(x_train, y_train, c='green', s=250, label='Original data')\n",
    "plt.show()"
   ],
   "metadata": {
    "collapsed": false,
    "ExecuteTime": {
     "end_time": "2023-05-19T09:36:59.603406700Z",
     "start_time": "2023-05-19T09:36:59.443541100Z"
    }
   }
  },
  {
   "cell_type": "code",
   "execution_count": 4,
   "outputs": [],
   "source": [
    "import torch"
   ],
   "metadata": {
    "collapsed": false,
    "ExecuteTime": {
     "end_time": "2023-05-19T09:37:29.662375100Z",
     "start_time": "2023-05-19T09:37:27.848084300Z"
    }
   }
  },
  {
   "cell_type": "code",
   "execution_count": 5,
   "outputs": [
    {
     "name": "stdout",
     "output_type": "stream",
     "text": [
      "requires_grad for X_train:  False\n",
      "requires_grad for Y_train:  False\n"
     ]
    }
   ],
   "source": [
    "X_train = torch.from_numpy(x_train)\n",
    "Y_train = torch.from_numpy(y_train)\n",
    "\n",
    "print('requires_grad for X_train: ', X_train.requires_grad)\n",
    "print('requires_grad for Y_train: ', Y_train.requires_grad)"
   ],
   "metadata": {
    "collapsed": false,
    "ExecuteTime": {
     "end_time": "2023-05-19T09:37:36.379243100Z",
     "start_time": "2023-05-19T09:37:36.374274400Z"
    }
   }
  },
  {
   "cell_type": "code",
   "execution_count": 6,
   "outputs": [],
   "source": [
    "input_size = 1\n",
    "hidden_size = 1\n",
    "output_size = 1\n",
    "learning_rate = 0.001"
   ],
   "metadata": {
    "collapsed": false,
    "ExecuteTime": {
     "end_time": "2023-05-19T09:37:56.798528400Z",
     "start_time": "2023-05-19T09:37:56.794559500Z"
    }
   }
  },
  {
   "cell_type": "code",
   "execution_count": 7,
   "outputs": [
    {
     "data": {
      "text/plain": "torch.Size([1, 1])"
     },
     "execution_count": 7,
     "metadata": {},
     "output_type": "execute_result"
    }
   ],
   "source": [
    "w1 = torch.rand(input_size,\n",
    "                hidden_size,\n",
    "\n",
    "                requires_grad=True)\n",
    "w1.shape"
   ],
   "metadata": {
    "collapsed": false,
    "ExecuteTime": {
     "end_time": "2023-05-19T09:38:30.423793800Z",
     "start_time": "2023-05-19T09:38:30.417390500Z"
    }
   }
  },
  {
   "cell_type": "code",
   "execution_count": 8,
   "outputs": [
    {
     "data": {
      "text/plain": "torch.Size([1, 1])"
     },
     "execution_count": 8,
     "metadata": {},
     "output_type": "execute_result"
    }
   ],
   "source": [
    "b1 = torch.rand(hidden_size,\n",
    "                output_size,\n",
    "\n",
    "                requires_grad=True)\n",
    "b1.shape"
   ],
   "metadata": {
    "collapsed": false,
    "ExecuteTime": {
     "end_time": "2023-05-19T09:38:30.894692100Z",
     "start_time": "2023-05-19T09:38:30.889741900Z"
    }
   }
  },
  {
   "cell_type": "code",
   "execution_count": 9,
   "outputs": [
    {
     "data": {
      "text/plain": "tensor([[0.7643]], requires_grad=True)"
     },
     "execution_count": 9,
     "metadata": {},
     "output_type": "execute_result"
    }
   ],
   "source": [
    "w1"
   ],
   "metadata": {
    "collapsed": false,
    "ExecuteTime": {
     "end_time": "2023-05-19T09:38:46.462139100Z",
     "start_time": "2023-05-19T09:38:46.457184Z"
    }
   }
  },
  {
   "cell_type": "code",
   "execution_count": 10,
   "outputs": [
    {
     "data": {
      "text/plain": "tensor([[0.4209]], requires_grad=True)"
     },
     "execution_count": 10,
     "metadata": {},
     "output_type": "execute_result"
    }
   ],
   "source": [
    "b1"
   ],
   "metadata": {
    "collapsed": false,
    "ExecuteTime": {
     "end_time": "2023-05-19T09:38:47.897479900Z",
     "start_time": "2023-05-19T09:38:47.891850Z"
    }
   }
  },
  {
   "cell_type": "markdown",
   "source": [
    "Strength of the regularization - larger values\n",
    "imply strong regularization i.e. larger penalties"
   ],
   "metadata": {
    "collapsed": false
   }
  },
  {
   "cell_type": "code",
   "execution_count": 11,
   "outputs": [],
   "source": [
    "alpha = 0.8"
   ],
   "metadata": {
    "collapsed": false,
    "ExecuteTime": {
     "end_time": "2023-05-19T09:39:31.074564900Z",
     "start_time": "2023-05-19T09:39:31.070534800Z"
    }
   }
  },
  {
   "cell_type": "code",
   "execution_count": 12,
   "outputs": [
    {
     "name": "stdout",
     "output_type": "stream",
     "text": [
      "500 6.153199672698975\n",
      "1000 6.144227027893066\n",
      "1500 6.144204139709473\n",
      "2000 6.144202709197998\n",
      "2500 6.144202709197998\n",
      "3000 6.144202709197998\n",
      "3500 6.144202709197998\n",
      "4000 6.144202709197998\n",
      "4500 6.144202709197998\n",
      "5000 6.144202709197998\n"
     ]
    }
   ],
   "source": [
    "for iter in range(1, 5001):\n",
    "\n",
    "    y_pred = X_train.mm(w1).add(b1)\n",
    "\n",
    "    ridge_regularization_penalty = (w1 * w1)\n",
    "\n",
    "    loss = ((y_pred - Y_train).pow(2).sum()) + (alpha * ridge_regularization_penalty)\n",
    "\n",
    "    if iter % 500 == 0:\n",
    "        print(iter, loss.item())\n",
    "\n",
    "    loss.backward()\n",
    "\n",
    "    with torch.no_grad():\n",
    "        w1 -= learning_rate * w1.grad\n",
    "        b1 -= learning_rate * b1.grad\n",
    "\n",
    "        w1.grad.zero_()\n",
    "        b1.grad.zero_()"
   ],
   "metadata": {
    "collapsed": false,
    "ExecuteTime": {
     "end_time": "2023-05-19T09:40:50.454939800Z",
     "start_time": "2023-05-19T09:40:49.320252700Z"
    }
   }
  },
  {
   "cell_type": "code",
   "execution_count": 13,
   "outputs": [
    {
     "name": "stdout",
     "output_type": "stream",
     "text": [
      "w1:  tensor([[0.1735]], requires_grad=True)\n",
      "b1:  tensor([[1.4123]], requires_grad=True)\n"
     ]
    }
   ],
   "source": [
    "print('w1: ', w1)\n",
    "print('b1: ', b1)"
   ],
   "metadata": {
    "collapsed": false,
    "ExecuteTime": {
     "end_time": "2023-05-19T09:42:50.198870100Z",
     "start_time": "2023-05-19T09:42:50.192843800Z"
    }
   }
  },
  {
   "cell_type": "code",
   "execution_count": 14,
   "outputs": [
    {
     "data": {
      "text/plain": "tensor([[4.7000],\n        [2.4000],\n        [7.5000],\n        [7.1000],\n        [4.3000],\n        [7.8000],\n        [8.9000],\n        [5.2000],\n        [4.5900],\n        [2.1000],\n        [8.0000],\n        [5.0000],\n        [7.5000],\n        [5.0000],\n        [4.0000],\n        [8.0000],\n        [5.2000],\n        [4.9000],\n        [3.0000],\n        [4.7000],\n        [4.0000],\n        [4.8000],\n        [3.5000],\n        [2.1000],\n        [4.1000]])"
     },
     "execution_count": 14,
     "metadata": {},
     "output_type": "execute_result"
    }
   ],
   "source": [
    "x_train_tensor = torch.from_numpy(x_train)\n",
    "x_train_tensor"
   ],
   "metadata": {
    "collapsed": false,
    "ExecuteTime": {
     "end_time": "2023-05-19T09:43:25.209551300Z",
     "start_time": "2023-05-19T09:43:25.197332400Z"
    }
   }
  },
  {
   "cell_type": "code",
   "execution_count": 15,
   "outputs": [
    {
     "data": {
      "text/plain": "tensor([[2.2280],\n        [1.8288],\n        [2.7139],\n        [2.6445],\n        [2.1586],\n        [2.7660],\n        [2.9569],\n        [2.3148],\n        [2.2089],\n        [1.7768],\n        [2.8007],\n        [2.2801],\n        [2.7139],\n        [2.2801],\n        [2.1065],\n        [2.8007],\n        [2.3148],\n        [2.2627],\n        [1.9330],\n        [2.2280],\n        [2.1065],\n        [2.2454],\n        [2.0197],\n        [1.7768],\n        [2.1239]], grad_fn=<AddBackward0>)"
     },
     "execution_count": 15,
     "metadata": {},
     "output_type": "execute_result"
    }
   ],
   "source": [
    "predicted_in_tensor = X_train.mm(w1).add(b1)\n",
    "predicted_in_tensor"
   ],
   "metadata": {
    "collapsed": false,
    "ExecuteTime": {
     "end_time": "2023-05-19T09:43:57.856583900Z",
     "start_time": "2023-05-19T09:43:57.851583700Z"
    }
   }
  },
  {
   "cell_type": "code",
   "execution_count": 16,
   "outputs": [
    {
     "data": {
      "text/plain": "array([[2.2280006],\n       [1.8288374],\n       [2.7139387],\n       [2.644519 ],\n       [2.1585813],\n       [2.7660036],\n       [2.9569077],\n       [2.3147755],\n       [2.2089105],\n       [1.7767726],\n       [2.8007135],\n       [2.2800655],\n       [2.7139387],\n       [2.2800655],\n       [2.1065164],\n       [2.8007135],\n       [2.3147755],\n       [2.2627106],\n       [1.932967 ],\n       [2.2280006],\n       [2.1065164],\n       [2.2453558],\n       [2.0197415],\n       [1.7767726],\n       [2.1238713]], dtype=float32)"
     },
     "execution_count": 16,
     "metadata": {},
     "output_type": "execute_result"
    }
   ],
   "source": [
    "predicted = predicted_in_tensor.detach().numpy()\n",
    "predicted"
   ],
   "metadata": {
    "collapsed": false,
    "ExecuteTime": {
     "end_time": "2023-05-19T09:44:36.930780Z",
     "start_time": "2023-05-19T09:44:36.925252400Z"
    }
   }
  },
  {
   "cell_type": "code",
   "execution_count": 17,
   "outputs": [
    {
     "data": {
      "text/plain": "<Figure size 800x800 with 1 Axes>",
      "image/png": "[encoded data removed]"
     },
     "metadata": {},
     "output_type": "display_data"
    }
   ],
   "source": [
    "plt.figure(figsize=(8,8))\n",
    "plt.scatter(x_train, y_train, c='green', s=250, label='Original data')\n",
    "plt.plot(x_train, predicted, label = \"Fitted line\")\n",
    "plt.legend()\n",
    "plt.show()"
   ],
   "metadata": {
    "collapsed": false,
    "ExecuteTime": {
     "end_time": "2023-05-19T09:45:49.720291300Z",
     "start_time": "2023-05-19T09:45:49.579752900Z"
    }
   }
  },
  {
   "cell_type": "code",
   "execution_count": 18,
   "outputs": [],
   "source": [
    "from sklearn.linear_model import Ridge\n",
    "ridge_model = Ridge()"
   ],
   "metadata": {
    "collapsed": false,
    "ExecuteTime": {
     "end_time": "2023-05-19T09:46:36.244344300Z",
     "start_time": "2023-05-19T09:46:35.606190600Z"
    }
   }
  },
  {
   "cell_type": "code",
   "execution_count": 19,
   "outputs": [],
   "source": [
    "ridge_reg = ridge_model.fit(x_train, y_train)"
   ],
   "metadata": {
    "collapsed": false,
    "ExecuteTime": {
     "end_time": "2023-05-19T09:47:03.992547200Z",
     "start_time": "2023-05-19T09:47:03.966543800Z"
    }
   }
  },
  {
   "cell_type": "code",
   "execution_count": 20,
   "outputs": [
    {
     "name": "stdout",
     "output_type": "stream",
     "text": [
      "w1 with sklearn is:  [[0.17317088]]\n"
     ]
    }
   ],
   "source": [
    "print(\"w1 with sklearn is: \", ridge_model.coef_)"
   ],
   "metadata": {
    "collapsed": false,
    "ExecuteTime": {
     "end_time": "2023-05-19T09:47:29.107914200Z",
     "start_time": "2023-05-19T09:47:29.088912400Z"
    }
   }
  },
  {
   "cell_type": "code",
   "execution_count": 21,
   "outputs": [
    {
     "name": "stdout",
     "output_type": "stream",
     "text": [
      "b1 with sklearn is:  [1.4142637]\n"
     ]
    }
   ],
   "source": [
    "print(\"b1 with sklearn is: \", ridge_model.intercept_)"
   ],
   "metadata": {
    "collapsed": false,
    "ExecuteTime": {
     "end_time": "2023-05-19T09:48:03.968627700Z",
     "start_time": "2023-05-19T09:48:03.953598300Z"
    }
   }
  },
  {
   "cell_type": "code",
   "execution_count": null,
   "outputs": [],
   "source": [],
   "metadata": {
    "collapsed": false
   }
  }
 ],
 "metadata": {
  "kernelspec": {
   "display_name": "Python 3",
   "language": "python",
   "name": "python3"
  },
  "language_info": {
   "codemirror_mode": {
    "name": "ipython",
    "version": 2
   },
   "file_extension": ".py",
   "mimetype": "text/x-python",
   "name": "python",
   "nbconvert_exporter": "python",
   "pygments_lexer": "ipython2",
   "version": "2.7.6"
  }
 },
 "nbformat": 4,
 "nbformat_minor": 0
}
