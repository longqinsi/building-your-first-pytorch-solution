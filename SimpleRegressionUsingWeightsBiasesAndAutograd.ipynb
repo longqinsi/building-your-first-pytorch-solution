{
 "cells": [
  {
   "cell_type": "code",
   "execution_count": 1,
   "metadata": {
    "collapsed": true,
    "ExecuteTime": {
     "end_time": "2023-05-19T08:33:53.986814700Z",
     "start_time": "2023-05-19T08:33:53.973163600Z"
    }
   },
   "outputs": [],
   "source": [
    "import numpy as np\n",
    "import matplotlib.pyplot as plt"
   ]
  },
  {
   "cell_type": "code",
   "execution_count": 2,
   "outputs": [],
   "source": [
    "x_train = np.array ([[4.7], [2.4], [7.5], [7.1], [4.3],\n",
    "                     [7.8], [8.9], [5.2], [4.59], [2.1],\n",
    "                     [8], [5], [7.5], [5], [4],\n",
    "                     [8], [5.2], [4.9], [3], [4.7],\n",
    "                     [4], [4.8], [3.5], [2.1], [4.1]],\n",
    "                    dtype = np.float32)\n",
    "\n",
    "y_train = np.array ([[2.6], [1.6], [3.09], [2.4], [2.4],\n",
    "                     [3.3], [2.6], [1.96], [3.13], [1.76],\n",
    "                     [3.2], [2.1], [1.6], [2.5], [2.2],\n",
    "                     [2.75], [2.4], [1.8], [1], [2],\n",
    "                     [1.6], [2.4], [2.6], [1.5], [3.1]],\n",
    "                    dtype = np.float32)"
   ],
   "metadata": {
    "collapsed": false,
    "ExecuteTime": {
     "end_time": "2023-05-19T08:34:55.804408800Z",
     "start_time": "2023-05-19T08:34:55.800396400Z"
    }
   }
  },
  {
   "cell_type": "code",
   "execution_count": 3,
   "outputs": [
    {
     "data": {
      "text/plain": "<Figure size 800x800 with 1 Axes>",
      "image/png": "[encoded data removed]"
     },
     "metadata": {},
     "output_type": "display_data"
    }
   ],
   "source": [
    "plt.figure(figsize=(8,8))\n",
    "plt.scatter(x_train, y_train, c='green', s=250, label='Original Data')\n",
    "plt.show()"
   ],
   "metadata": {
    "collapsed": false,
    "ExecuteTime": {
     "end_time": "2023-05-19T08:35:42.428265400Z",
     "start_time": "2023-05-19T08:35:41.646226500Z"
    }
   }
  },
  {
   "cell_type": "code",
   "execution_count": 4,
   "outputs": [],
   "source": [
    "import torch"
   ],
   "metadata": {
    "collapsed": false,
    "ExecuteTime": {
     "end_time": "2023-05-19T08:36:33.687690100Z",
     "start_time": "2023-05-19T08:36:28.746347500Z"
    }
   }
  },
  {
   "cell_type": "code",
   "execution_count": 5,
   "outputs": [
    {
     "name": "stdout",
     "output_type": "stream",
     "text": [
      "requires_grad for X_train:  False\n",
      "requires_grad for Y_train:  False\n"
     ]
    }
   ],
   "source": [
    "X_train = torch.from_numpy(x_train)\n",
    "Y_train = torch.from_numpy(y_train)\n",
    "\n",
    "print('requires_grad for X_train: ', X_train.requires_grad)\n",
    "print('requires_grad for Y_train: ', Y_train.requires_grad)"
   ],
   "metadata": {
    "collapsed": false,
    "ExecuteTime": {
     "end_time": "2023-05-19T08:37:31.560804600Z",
     "start_time": "2023-05-19T08:37:31.534212600Z"
    }
   }
  },
  {
   "cell_type": "code",
   "execution_count": 6,
   "outputs": [],
   "source": [
    "input_size = 1\n",
    "hidden_size = 1\n",
    "output_size = 1\n",
    "learning_rate = 0.001"
   ],
   "metadata": {
    "collapsed": false,
    "ExecuteTime": {
     "end_time": "2023-05-19T08:38:22.610244400Z",
     "start_time": "2023-05-19T08:38:22.606244900Z"
    }
   }
  },
  {
   "cell_type": "code",
   "execution_count": 7,
   "outputs": [
    {
     "data": {
      "text/plain": "torch.Size([1, 1])"
     },
     "execution_count": 7,
     "metadata": {},
     "output_type": "execute_result"
    }
   ],
   "source": [
    "w1 = torch.rand(input_size,\n",
    "                hidden_size,\n",
    "\n",
    "                requires_grad=True)\n",
    "w1.shape"
   ],
   "metadata": {
    "collapsed": false,
    "ExecuteTime": {
     "end_time": "2023-05-19T08:39:25.291853Z",
     "start_time": "2023-05-19T08:39:25.275617600Z"
    }
   }
  },
  {
   "cell_type": "code",
   "execution_count": 8,
   "outputs": [
    {
     "data": {
      "text/plain": "torch.Size([1, 1])"
     },
     "execution_count": 8,
     "metadata": {},
     "output_type": "execute_result"
    }
   ],
   "source": [
    "b1 = torch.rand(input_size,\n",
    "                hidden_size,\n",
    "\n",
    "                requires_grad=True)\n",
    "b1.shape"
   ],
   "metadata": {
    "collapsed": false,
    "ExecuteTime": {
     "end_time": "2023-05-19T08:40:53.484497500Z",
     "start_time": "2023-05-19T08:40:53.479107Z"
    }
   }
  },
  {
   "cell_type": "code",
   "execution_count": 9,
   "outputs": [
    {
     "data": {
      "text/plain": "tensor([[0.0122]], requires_grad=True)"
     },
     "execution_count": 9,
     "metadata": {},
     "output_type": "execute_result"
    }
   ],
   "source": [
    "w1"
   ],
   "metadata": {
    "collapsed": false,
    "ExecuteTime": {
     "end_time": "2023-05-19T08:41:12.281403700Z",
     "start_time": "2023-05-19T08:41:12.255637200Z"
    }
   }
  },
  {
   "cell_type": "code",
   "execution_count": 10,
   "outputs": [
    {
     "data": {
      "text/plain": "tensor([[0.4208]], requires_grad=True)"
     },
     "execution_count": 10,
     "metadata": {},
     "output_type": "execute_result"
    }
   ],
   "source": [
    "b1"
   ],
   "metadata": {
    "collapsed": false,
    "ExecuteTime": {
     "end_time": "2023-05-19T08:41:13.734996200Z",
     "start_time": "2023-05-19T08:41:13.729988600Z"
    }
   }
  },
  {
   "cell_type": "code",
   "execution_count": 12,
   "outputs": [
    {
     "name": "stdout",
     "output_type": "stream",
     "text": [
      "100 6.911849021911621\n",
      "200 6.362552165985107\n",
      "300 6.194246292114258\n",
      "400 6.1426777839660645\n",
      "500 6.1268768310546875\n",
      "600 6.122035503387451\n",
      "700 6.120552062988281\n",
      "800 6.120098114013672\n",
      "900 6.119958400726318\n",
      "1000 6.119915962219238\n",
      "1100 6.119902610778809\n",
      "1200 6.119898796081543\n",
      "1300 6.119897365570068\n",
      "1400 6.119897365570068\n",
      "1500 6.11989688873291\n",
      "1600 6.119897365570068\n",
      "1700 6.119897365570068\n",
      "1800 6.119897365570068\n",
      "1900 6.11989688873291\n",
      "2000 6.119896411895752\n",
      "2100 6.119896411895752\n",
      "2200 6.119896411895752\n",
      "2300 6.119896411895752\n",
      "2400 6.119896411895752\n",
      "2500 6.119896411895752\n",
      "2600 6.119896411895752\n",
      "2700 6.119896411895752\n",
      "2800 6.119896411895752\n",
      "2900 6.119896411895752\n",
      "3000 6.119896411895752\n",
      "3100 6.119896411895752\n",
      "3200 6.119896411895752\n",
      "3300 6.119896411895752\n",
      "3400 6.119896411895752\n",
      "3500 6.119896411895752\n",
      "3600 6.119896411895752\n",
      "3700 6.119896411895752\n",
      "3800 6.119896411895752\n",
      "3900 6.119896411895752\n",
      "4000 6.119896411895752\n"
     ]
    }
   ],
   "source": [
    "for iter in range(1, 4001):\n",
    "\n",
    "    y_pred = X_train.mm(w1).clamp(min=0).add(b1)\n",
    "\n",
    "    loss = (y_pred - Y_train).pow(2).sum()\n",
    "\n",
    "    if iter % 100 == 0:\n",
    "        print(iter, loss.item())\n",
    "\n",
    "    loss.backward()\n",
    "\n",
    "    with torch.no_grad():\n",
    "        w1 -= learning_rate * w1.grad\n",
    "        b1 -= learning_rate * b1.grad\n",
    "        w1.grad.zero_()\n",
    "        b1.grad.zero_()"
   ],
   "metadata": {
    "collapsed": false,
    "ExecuteTime": {
     "end_time": "2023-05-19T08:44:47.626574700Z",
     "start_time": "2023-05-19T08:44:46.798126700Z"
    }
   }
  },
  {
   "cell_type": "code",
   "execution_count": 13,
   "outputs": [
    {
     "name": "stdout",
     "output_type": "stream",
     "text": [
      "w1:  tensor([[0.1751]], requires_grad=True)\n",
      "b1:  tensor([[1.4045]], requires_grad=True)\n"
     ]
    }
   ],
   "source": [
    "print('w1: ', w1)\n",
    "print('b1: ', b1)"
   ],
   "metadata": {
    "collapsed": false,
    "ExecuteTime": {
     "end_time": "2023-05-19T08:52:48.906973400Z",
     "start_time": "2023-05-19T08:52:48.901948400Z"
    }
   }
  },
  {
   "cell_type": "code",
   "execution_count": 14,
   "outputs": [
    {
     "data": {
      "text/plain": "tensor([[4.7000],\n        [2.4000],\n        [7.5000],\n        [7.1000],\n        [4.3000],\n        [7.8000],\n        [8.9000],\n        [5.2000],\n        [4.5900],\n        [2.1000],\n        [8.0000],\n        [5.0000],\n        [7.5000],\n        [5.0000],\n        [4.0000],\n        [8.0000],\n        [5.2000],\n        [4.9000],\n        [3.0000],\n        [4.7000],\n        [4.0000],\n        [4.8000],\n        [3.5000],\n        [2.1000],\n        [4.1000]])"
     },
     "execution_count": 14,
     "metadata": {},
     "output_type": "execute_result"
    }
   ],
   "source": [
    "x_train_tensor = torch.from_numpy(x_train)\n",
    "\n",
    "x_train_tensor"
   ],
   "metadata": {
    "collapsed": false,
    "ExecuteTime": {
     "end_time": "2023-05-19T08:53:29.674873200Z",
     "start_time": "2023-05-19T08:53:29.669871900Z"
    }
   }
  },
  {
   "cell_type": "code",
   "execution_count": 15,
   "outputs": [
    {
     "data": {
      "text/plain": "tensor([[2.2273],\n        [1.8247],\n        [2.7175],\n        [2.6475],\n        [2.1573],\n        [2.7701],\n        [2.9626],\n        [2.3149],\n        [2.2081],\n        [1.7721],\n        [2.8051],\n        [2.2799],\n        [2.7175],\n        [2.2799],\n        [2.1048],\n        [2.8051],\n        [2.3149],\n        [2.2624],\n        [1.9297],\n        [2.2273],\n        [2.1048],\n        [2.2448],\n        [2.0172],\n        [1.7721],\n        [2.1223]], grad_fn=<AddBackward0>)"
     },
     "execution_count": 15,
     "metadata": {},
     "output_type": "execute_result"
    }
   ],
   "source": [
    "predicted_in_tensor = x_train_tensor.mm(w1).clamp(min=0).add(b1)\n",
    "\n",
    "predicted_in_tensor"
   ],
   "metadata": {
    "collapsed": false,
    "ExecuteTime": {
     "end_time": "2023-05-19T08:54:17.301396Z",
     "start_time": "2023-05-19T08:54:17.295396100Z"
    }
   }
  },
  {
   "cell_type": "code",
   "execution_count": 16,
   "outputs": [
    {
     "data": {
      "text/plain": "array([[2.2273371],\n       [1.8246689],\n       [2.717542 ],\n       [2.6475127],\n       [2.1573079],\n       [2.7700639],\n       [2.9626443],\n       [2.3148737],\n       [2.208079 ],\n       [1.7721468],\n       [2.8050785],\n       [2.279859 ],\n       [2.717542 ],\n       [2.279859 ],\n       [2.104786 ],\n       [2.8050785],\n       [2.3148737],\n       [2.2623518],\n       [1.9297128],\n       [2.2273371],\n       [2.104786 ],\n       [2.2448444],\n       [2.0172493],\n       [1.7721468],\n       [2.1222932]], dtype=float32)"
     },
     "execution_count": 16,
     "metadata": {},
     "output_type": "execute_result"
    }
   ],
   "source": [
    "predicted = predicted_in_tensor.detach().numpy()\n",
    "predicted"
   ],
   "metadata": {
    "collapsed": false,
    "ExecuteTime": {
     "end_time": "2023-05-19T08:54:57.893309200Z",
     "start_time": "2023-05-19T08:54:57.887770200Z"
    }
   }
  },
  {
   "cell_type": "code",
   "execution_count": 19,
   "outputs": [
    {
     "data": {
      "text/plain": "<Figure size 800x800 with 1 Axes>",
      "image/png": "[encoded data removed]"
     },
     "metadata": {},
     "output_type": "display_data"
    }
   ],
   "source": [
    "plt.figure(figsize=(8, 8))\n",
    "plt.scatter(x_train, y_train, c='green', s=250, label='Original Data')\n",
    "plt.plot(x_train, predicted, label='Fitted line')\n",
    "plt.legend()\n",
    "plt.show()"
   ],
   "metadata": {
    "collapsed": false,
    "ExecuteTime": {
     "end_time": "2023-05-19T08:56:28.191590400Z",
     "start_time": "2023-05-19T08:56:28.040328100Z"
    }
   }
  },
  {
   "cell_type": "code",
   "execution_count": 20,
   "outputs": [],
   "source": [
    "import sklearn\n",
    "from sklearn.linear_model import LinearRegression"
   ],
   "metadata": {
    "collapsed": false,
    "ExecuteTime": {
     "end_time": "2023-05-19T09:01:54.525491800Z",
     "start_time": "2023-05-19T09:01:53.743341100Z"
    }
   }
  },
  {
   "cell_type": "code",
   "execution_count": 21,
   "outputs": [],
   "source": [
    "reg = LinearRegression().fit(x_train, y_train)"
   ],
   "metadata": {
    "collapsed": false,
    "ExecuteTime": {
     "end_time": "2023-05-19T09:02:28.117606900Z",
     "start_time": "2023-05-19T09:02:28.101443400Z"
    }
   }
  },
  {
   "cell_type": "code",
   "execution_count": 22,
   "outputs": [
    {
     "name": "stdout",
     "output_type": "stream",
     "text": [
      "w1 with sklearn is:  [[0.17507163]]\n"
     ]
    }
   ],
   "source": [
    "print(\"w1 with sklearn is: \", reg.coef_)"
   ],
   "metadata": {
    "collapsed": false,
    "ExecuteTime": {
     "end_time": "2023-05-19T09:03:03.975237900Z",
     "start_time": "2023-05-19T09:03:03.957236800Z"
    }
   }
  },
  {
   "cell_type": "code",
   "execution_count": 23,
   "outputs": [
    {
     "name": "stdout",
     "output_type": "stream",
     "text": [
      "b1 with sklearn is:  [1.4045022]\n"
     ]
    }
   ],
   "source": [
    "print(\"b1 with sklearn is: \", reg.intercept_)"
   ],
   "metadata": {
    "collapsed": false,
    "ExecuteTime": {
     "end_time": "2023-05-19T09:04:27.230251800Z",
     "start_time": "2023-05-19T09:04:27.223764200Z"
    }
   }
  },
  {
   "cell_type": "code",
   "execution_count": 24,
   "outputs": [
    {
     "data": {
      "text/plain": "array([[2.2273388],\n       [1.8246741],\n       [2.7175393],\n       [2.6475105],\n       [2.1573102],\n       [2.770061 ],\n       [2.9626396],\n       [2.3148746],\n       [2.208081 ],\n       [1.7721525],\n       [2.8050752],\n       [2.2798603],\n       [2.7175393],\n       [2.2798603],\n       [2.1047888],\n       [2.8050752],\n       [2.3148746],\n       [2.2623532],\n       [1.9297171],\n       [2.2273388],\n       [2.1047888],\n       [2.2448459],\n       [2.017253 ],\n       [1.7721525],\n       [2.1222959]], dtype=float32)"
     },
     "execution_count": 24,
     "metadata": {},
     "output_type": "execute_result"
    }
   ],
   "source": [
    "predicted = reg.predict(x_train)\n",
    "predicted"
   ],
   "metadata": {
    "collapsed": false,
    "ExecuteTime": {
     "end_time": "2023-05-19T09:04:56.149729Z",
     "start_time": "2023-05-19T09:04:56.136760500Z"
    }
   }
  },
  {
   "cell_type": "code",
   "execution_count": 25,
   "outputs": [
    {
     "data": {
      "text/plain": "<Figure size 800x800 with 1 Axes>",
      "image/png": "[encoded data removed]"
     },
     "metadata": {},
     "output_type": "display_data"
    }
   ],
   "source": [
    "plt.figure(figsize=(8, 8))\n",
    "plt.scatter(x_train, y_train, c='green', s=250, label='Original Data')\n",
    "plt.plot(x_train, predicted, label='Fitted line')\n",
    "plt.legend()\n",
    "plt.show()"
   ],
   "metadata": {
    "collapsed": false,
    "ExecuteTime": {
     "end_time": "2023-05-19T09:05:38.321417500Z",
     "start_time": "2023-05-19T09:05:38.180196Z"
    }
   }
  },
  {
   "cell_type": "code",
   "execution_count": null,
   "outputs": [],
   "source": [],
   "metadata": {
    "collapsed": false
   }
  }
 ],
 "metadata": {
  "kernelspec": {
   "display_name": "Python 3",
   "language": "python",
   "name": "python3"
  },
  "language_info": {
   "codemirror_mode": {
    "name": "ipython",
    "version": 2
   },
   "file_extension": ".py",
   "mimetype": "text/x-python",
   "name": "python",
   "nbconvert_exporter": "python",
   "pygments_lexer": "ipython2",
   "version": "2.7.6"
  }
 },
 "nbformat": 4,
 "nbformat_minor": 0
}
